{
 "cells": [
  {
   "cell_type": "code",
   "execution_count": 8,
   "metadata": {},
   "outputs": [],
   "source": [
    "import pandas as pd\n",
    "import os\n",
    "import configparser\n",
    "import jaconv\n",
    "\n",
    "config = configparser.ConfigParser()\n",
    "config.read(\"../config.ini\")\n",
    "OUTPUT_ROOT = config.get(\"Output\",\"output_path\")\n",
    "\n",
    "rakuten_root_path = config['Data']['rakuten_data_path']"
   ]
  },
  {
   "cell_type": "code",
   "execution_count": 2,
   "metadata": {},
   "outputs": [
    {
     "data": {
      "text/plain": [
       "796028"
      ]
     },
     "execution_count": 2,
     "metadata": {},
     "output_type": "execute_result"
    }
   ],
   "source": [
    "data_all = pd.read_csv(os.path.join(rakuten_root_path,\"recipe01_all_20170118.txt\"), sep=\"\\t\", encoding=\"utf-8\", header=None)\n",
    "column_names = [\n",
    "    \"recipe_id\",\n",
    "    \"user_id\",\n",
    "    \"major_category\",\n",
    "    \"medium_category\",\n",
    "    \"minor_category\",\n",
    "    \"recipe_title\",\n",
    "    \"recipe_origin\",\n",
    "    \"recipe_introduction\",\n",
    "    \"food_image_file\",\n",
    "    \"dish_name\",\n",
    "    \"tag1\",\n",
    "    \"tag2\",\n",
    "    \"tag3\",\n",
    "    \"tag4\",\n",
    "    \"one_point_info\",\n",
    "    \"cooking_time_id\",\n",
    "    \"occasion_id\",\n",
    "    \"cost_id\",\n",
    "    \"servings\",\n",
    "    \"recipe_publish_date\"\n",
    "]\n",
    "data_all.columns = column_names\n",
    "len(data_all)"
   ]
  },
  {
   "cell_type": "code",
   "execution_count": 3,
   "metadata": {},
   "outputs": [
    {
     "name": "stdout",
     "output_type": "stream",
     "text": [
      "5274989\n"
     ]
    }
   ],
   "source": [
    "data_ingredient = pd.read_csv(os.path.join(rakuten_root_path,\"recipe02_material_20160112.txt\"), sep=\"\\t\", encoding=\"utf-8\", header=None)\n",
    "column_names = [\n",
    "    \"recipe_id\",\n",
    "    \"name\",\n",
    "    \"quantity\"\n",
    "]\n",
    "data_ingredient.columns = column_names\n",
    "print(len(data_ingredient))\n",
    "data_ingredient.head(3)\n",
    "data_ingredient = data_ingredient.rename(columns={\"name\":\"ingredient_name\"})"
   ]
  },
  {
   "cell_type": "code",
   "execution_count": 4,
   "metadata": {},
   "outputs": [
    {
     "name": "stdout",
     "output_type": "stream",
     "text": [
      "3035218\n"
     ]
    }
   ],
   "source": [
    "data_steps = pd.read_csv(os.path.join(rakuten_root_path,\"recipe03_process_20160112.txt\"), sep=\"\\t\", encoding=\"utf-8\", header=None)\n",
    "column_names = [\n",
    "    \"recipe_id\",\n",
    "    \"step\",\n",
    "    \"text\"\n",
    "]\n",
    "data_steps.columns = column_names\n",
    "print(len(data_steps))\n",
    "# data_steps.head(3)"
   ]
  },
  {
   "cell_type": "code",
   "execution_count": 5,
   "metadata": {},
   "outputs": [
    {
     "data": {
      "text/html": [
       "<div>\n",
       "<style scoped>\n",
       "    .dataframe tbody tr th:only-of-type {\n",
       "        vertical-align: middle;\n",
       "    }\n",
       "\n",
       "    .dataframe tbody tr th {\n",
       "        vertical-align: top;\n",
       "    }\n",
       "\n",
       "    .dataframe thead th {\n",
       "        text-align: right;\n",
       "    }\n",
       "</style>\n",
       "<table border=\"1\" class=\"dataframe\">\n",
       "  <thead>\n",
       "    <tr style=\"text-align: right;\">\n",
       "      <th></th>\n",
       "      <th>recipe_id</th>\n",
       "      <th>user_id</th>\n",
       "      <th>major_category</th>\n",
       "      <th>medium_category</th>\n",
       "      <th>minor_category</th>\n",
       "      <th>recipe_title</th>\n",
       "      <th>recipe_origin</th>\n",
       "      <th>recipe_introduction</th>\n",
       "      <th>food_image_file</th>\n",
       "      <th>dish_name</th>\n",
       "      <th>...</th>\n",
       "      <th>tag3</th>\n",
       "      <th>tag4</th>\n",
       "      <th>one_point_info</th>\n",
       "      <th>cooking_time_id</th>\n",
       "      <th>occasion_id</th>\n",
       "      <th>cost_id</th>\n",
       "      <th>servings</th>\n",
       "      <th>recipe_publish_date</th>\n",
       "      <th>ingredient_name</th>\n",
       "      <th>quantity</th>\n",
       "    </tr>\n",
       "  </thead>\n",
       "  <tbody>\n",
       "    <tr>\n",
       "      <th>0</th>\n",
       "      <td>1000000008</td>\n",
       "      <td>1000000016</td>\n",
       "      <td>お菓子</td>\n",
       "      <td>和菓子</td>\n",
       "      <td>まんじゅう</td>\n",
       "      <td>栗きんとん</td>\n",
       "      <td>シーズン中はほぼ毎日、規格外の栗で夜なべに栗きんとんを作っています。長年試行錯誤したレシピで...</td>\n",
       "      <td>栗を生産しています。長年試行錯誤して作ってきました。栗きんとんに親しんでいただきたいので、こ...</td>\n",
       "      <td>1000000008.jpg</td>\n",
       "      <td>栗きんとん</td>\n",
       "      <td>...</td>\n",
       "      <td>栗きんとん</td>\n",
       "      <td>圧力鍋</td>\n",
       "      <td>栗は１，５ｋｇ以上のほうが作りやすいです。食べ切れなかったら冷凍保存して自然解凍でどうぞ。一...</td>\n",
       "      <td>6.0</td>\n",
       "      <td>1,2,3,6,7</td>\n",
       "      <td>4.0</td>\n",
       "      <td>たくさん</td>\n",
       "      <td>2010/10/01</td>\n",
       "      <td>栗</td>\n",
       "      <td>１ｋ以上</td>\n",
       "    </tr>\n",
       "    <tr>\n",
       "      <th>1</th>\n",
       "      <td>1000000008</td>\n",
       "      <td>1000000016</td>\n",
       "      <td>お菓子</td>\n",
       "      <td>和菓子</td>\n",
       "      <td>まんじゅう</td>\n",
       "      <td>栗きんとん</td>\n",
       "      <td>シーズン中はほぼ毎日、規格外の栗で夜なべに栗きんとんを作っています。長年試行錯誤したレシピで...</td>\n",
       "      <td>栗を生産しています。長年試行錯誤して作ってきました。栗きんとんに親しんでいただきたいので、こ...</td>\n",
       "      <td>1000000008.jpg</td>\n",
       "      <td>栗きんとん</td>\n",
       "      <td>...</td>\n",
       "      <td>栗きんとん</td>\n",
       "      <td>圧力鍋</td>\n",
       "      <td>栗は１，５ｋｇ以上のほうが作りやすいです。食べ切れなかったら冷凍保存して自然解凍でどうぞ。一...</td>\n",
       "      <td>6.0</td>\n",
       "      <td>1,2,3,6,7</td>\n",
       "      <td>4.0</td>\n",
       "      <td>たくさん</td>\n",
       "      <td>2010/10/01</td>\n",
       "      <td>砂糖</td>\n",
       "      <td>適宜 　栗の正味の1/3～1/4くらい</td>\n",
       "    </tr>\n",
       "    <tr>\n",
       "      <th>2</th>\n",
       "      <td>1000000008</td>\n",
       "      <td>1000000016</td>\n",
       "      <td>お菓子</td>\n",
       "      <td>和菓子</td>\n",
       "      <td>まんじゅう</td>\n",
       "      <td>栗きんとん</td>\n",
       "      <td>シーズン中はほぼ毎日、規格外の栗で夜なべに栗きんとんを作っています。長年試行錯誤したレシピで...</td>\n",
       "      <td>栗を生産しています。長年試行錯誤して作ってきました。栗きんとんに親しんでいただきたいので、こ...</td>\n",
       "      <td>1000000008.jpg</td>\n",
       "      <td>栗きんとん</td>\n",
       "      <td>...</td>\n",
       "      <td>栗きんとん</td>\n",
       "      <td>圧力鍋</td>\n",
       "      <td>栗は１，５ｋｇ以上のほうが作りやすいです。食べ切れなかったら冷凍保存して自然解凍でどうぞ。一...</td>\n",
       "      <td>6.0</td>\n",
       "      <td>1,2,3,6,7</td>\n",
       "      <td>4.0</td>\n",
       "      <td>たくさん</td>\n",
       "      <td>2010/10/01</td>\n",
       "      <td>塩</td>\n",
       "      <td>適宜</td>\n",
       "    </tr>\n",
       "  </tbody>\n",
       "</table>\n",
       "<p>3 rows × 22 columns</p>\n",
       "</div>"
      ],
      "text/plain": [
       "    recipe_id     user_id major_category medium_category minor_category  \\\n",
       "0  1000000008  1000000016            お菓子             和菓子          まんじゅう   \n",
       "1  1000000008  1000000016            お菓子             和菓子          まんじゅう   \n",
       "2  1000000008  1000000016            お菓子             和菓子          まんじゅう   \n",
       "\n",
       "  recipe_title                                      recipe_origin  \\\n",
       "0        栗きんとん  シーズン中はほぼ毎日、規格外の栗で夜なべに栗きんとんを作っています。長年試行錯誤したレシピで...   \n",
       "1        栗きんとん  シーズン中はほぼ毎日、規格外の栗で夜なべに栗きんとんを作っています。長年試行錯誤したレシピで...   \n",
       "2        栗きんとん  シーズン中はほぼ毎日、規格外の栗で夜なべに栗きんとんを作っています。長年試行錯誤したレシピで...   \n",
       "\n",
       "                                 recipe_introduction food_image_file  \\\n",
       "0  栗を生産しています。長年試行錯誤して作ってきました。栗きんとんに親しんでいただきたいので、こ...  1000000008.jpg   \n",
       "1  栗を生産しています。長年試行錯誤して作ってきました。栗きんとんに親しんでいただきたいので、こ...  1000000008.jpg   \n",
       "2  栗を生産しています。長年試行錯誤して作ってきました。栗きんとんに親しんでいただきたいので、こ...  1000000008.jpg   \n",
       "\n",
       "  dish_name  ...   tag3 tag4  \\\n",
       "0     栗きんとん  ...  栗きんとん  圧力鍋   \n",
       "1     栗きんとん  ...  栗きんとん  圧力鍋   \n",
       "2     栗きんとん  ...  栗きんとん  圧力鍋   \n",
       "\n",
       "                                      one_point_info cooking_time_id  \\\n",
       "0  栗は１，５ｋｇ以上のほうが作りやすいです。食べ切れなかったら冷凍保存して自然解凍でどうぞ。一...             6.0   \n",
       "1  栗は１，５ｋｇ以上のほうが作りやすいです。食べ切れなかったら冷凍保存して自然解凍でどうぞ。一...             6.0   \n",
       "2  栗は１，５ｋｇ以上のほうが作りやすいです。食べ切れなかったら冷凍保存して自然解凍でどうぞ。一...             6.0   \n",
       "\n",
       "  occasion_id  cost_id servings  recipe_publish_date ingredient_name  \\\n",
       "0   1,2,3,6,7      4.0     たくさん           2010/10/01               栗   \n",
       "1   1,2,3,6,7      4.0     たくさん           2010/10/01              砂糖   \n",
       "2   1,2,3,6,7      4.0     たくさん           2010/10/01               塩   \n",
       "\n",
       "              quantity  \n",
       "0                 １ｋ以上  \n",
       "1  適宜 　栗の正味の1/3～1/4くらい  \n",
       "2                   適宜  \n",
       "\n",
       "[3 rows x 22 columns]"
      ]
     },
     "execution_count": 5,
     "metadata": {},
     "output_type": "execute_result"
    }
   ],
   "source": [
    "merge_rakuten_data = pd.merge(data_all, data_ingredient, on='recipe_id')\n",
    "\n",
    "# 結果を表示\n",
    "merge_rakuten_data.head(3)"
   ]
  },
  {
   "cell_type": "code",
   "execution_count": 6,
   "metadata": {},
   "outputs": [],
   "source": [
    "merge_rakuten_data.dropna(subset=['ingredient_name'], inplace=True)\n",
    "merge_rakuten_data[\"ingredient_name\"] = [jaconv.kata2hira(name) for name in merge_rakuten_data[\"ingredient_name\"]] \n",
    "merge_rakuten_data.dropna(subset=['recipe_title'], inplace=True)\n",
    "merge_rakuten_data[\"recipe_title\"] = [jaconv.kata2hira(name) for name in merge_rakuten_data[\"recipe_title\"]] "
   ]
  },
  {
   "cell_type": "code",
   "execution_count": 7,
   "metadata": {},
   "outputs": [],
   "source": [
    "merge_rakuten_data[\"data_source\"] = \"rakuten\"\n",
    "merge_rakuten_data[\"edge_type\"] = \"recipe-ingredient\"\n",
    "rakuten_edge = merge_rakuten_data[[\"recipe_id\",\"recipe_title\", \"ingredient_name\",\"edge_type\",\"data_source\"]].copy()"
   ]
  },
  {
   "cell_type": "code",
   "execution_count": 9,
   "metadata": {},
   "outputs": [],
   "source": [
    "save_path = os.path.join(OUTPUT_ROOT,\"output_csv\",\"rakuten_edges.csv\") \n",
    "rakuten_edge.to_csv(save_path,index=False)"
   ]
  },
  {
   "cell_type": "code",
   "execution_count": null,
   "metadata": {},
   "outputs": [],
   "source": []
  }
 ],
 "metadata": {
  "kernelspec": {
   "display_name": ".env",
   "language": "python",
   "name": "python3"
  },
  "language_info": {
   "codemirror_mode": {
    "name": "ipython",
    "version": 3
   },
   "file_extension": ".py",
   "mimetype": "text/x-python",
   "name": "python",
   "nbconvert_exporter": "python",
   "pygments_lexer": "ipython3",
   "version": "3.10.12"
  },
  "orig_nbformat": 4
 },
 "nbformat": 4,
 "nbformat_minor": 2
}
