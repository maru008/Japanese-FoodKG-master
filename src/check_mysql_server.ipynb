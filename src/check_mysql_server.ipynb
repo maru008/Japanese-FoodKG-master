{
 "cells": [
  {
   "cell_type": "code",
   "execution_count": 1,
   "metadata": {},
   "outputs": [],
   "source": [
    "import mysql.connector\n",
    "import pandas as pd\n",
    "import jaconv\n",
    "from tqdm import tqdm\n",
    "import os\n",
    "from concurrent.futures import ProcessPoolExecutor\n",
    "\n",
    "from utils.connect_cookpad_db import *"
   ]
  },
  {
   "cell_type": "code",
   "execution_count": 2,
   "metadata": {},
   "outputs": [],
   "source": [
    "config = get_config(\"../config.ini\")\n",
    "OUTPUT_ROOT = config.get(\"Output\",\"output_path\")"
   ]
  },
  {
   "cell_type": "markdown",
   "metadata": {},
   "source": [
    "グラフのもととなるCSVの作成"
   ]
  },
  {
   "cell_type": "code",
   "execution_count": 6,
   "metadata": {},
   "outputs": [
    {
     "name": "stderr",
     "output_type": "stream",
     "text": [
      "/home/yoshimaru/Japanese-FoodKG-master/src/utils/connect_cookpad_db.py:43: UserWarning: pandas only supports SQLAlchemy connectable (engine/connection) or database string URI or sqlite3 DBAPI2 connection. Other DBAPI2 objects are not tested. Please consider using SQLAlchemy.\n",
      "  df = pd.read_sql(sql, db)\n"
     ]
    }
   ],
   "source": [
    "sql = \"SELECT * FROM recipes;\"  # あなたのSQLクエリをここに入れます\n",
    "cookpad_recipe_data = execute_sql2df(config, sql)\n",
    "sql = \"SELECT * FROM ingredients;\"\n",
    "cookpad_ingredient_data  = execute_sql2df(config, sql)"
   ]
  },
  {
   "cell_type": "code",
   "execution_count": 3,
   "metadata": {},
   "outputs": [
    {
     "name": "stderr",
     "output_type": "stream",
     "text": [
      "/home/yoshimaru/Japanese-FoodKG-master/src/utils/connect_cookpad_db.py:43: UserWarning: pandas only supports SQLAlchemy connectable (engine/connection) or database string URI or sqlite3 DBAPI2 connection. Other DBAPI2 objects are not tested. Please consider using SQLAlchemy.\n",
      "  df = pd.read_sql(sql, db)\n"
     ]
    },
    {
     "ename": "TypeError",
     "evalue": "'NoneType' object is not iterable",
     "output_type": "error",
     "traceback": [
      "\u001b[0;31m---------------------------------------------------------------------------\u001b[0m",
      "\u001b[0;31mTypeError\u001b[0m                                 Traceback (most recent call last)",
      "\u001b[1;32m/home/yoshimaru/Japanese-FoodKG-master/src/check_mysql_server.ipynb セル 5\u001b[0m line \u001b[0;36m4\n\u001b[1;32m      <a href='vscode-notebook-cell://wsl%2Bubuntu/home/yoshimaru/Japanese-FoodKG-master/src/check_mysql_server.ipynb#X14sdnNjb2RlLXJlbW90ZQ%3D%3D?line=0'>1</a>\u001b[0m sql \u001b[39m=\u001b[39m \u001b[39m\"\"\"\u001b[39m\n\u001b[1;32m      <a href='vscode-notebook-cell://wsl%2Bubuntu/home/yoshimaru/Japanese-FoodKG-master/src/check_mysql_server.ipynb#X14sdnNjb2RlLXJlbW90ZQ%3D%3D?line=1'>2</a>\u001b[0m \u001b[39mCREATE INDEX recipe_id_index ON ingredients(recipe_id);\u001b[39m\n\u001b[1;32m      <a href='vscode-notebook-cell://wsl%2Bubuntu/home/yoshimaru/Japanese-FoodKG-master/src/check_mysql_server.ipynb#X14sdnNjb2RlLXJlbW90ZQ%3D%3D?line=2'>3</a>\u001b[0m \u001b[39m\"\"\"\u001b[39m\n\u001b[0;32m----> <a href='vscode-notebook-cell://wsl%2Bubuntu/home/yoshimaru/Japanese-FoodKG-master/src/check_mysql_server.ipynb#X14sdnNjb2RlLXJlbW90ZQ%3D%3D?line=3'>4</a>\u001b[0m marge_cookpad_data \u001b[39m=\u001b[39m execute_sql2df(config, sql)\n",
      "File \u001b[0;32m~/Japanese-FoodKG-master/src/utils/connect_cookpad_db.py:43\u001b[0m, in \u001b[0;36mexecute_sql2df\u001b[0;34m(config, sql)\u001b[0m\n\u001b[1;32m     35\u001b[0m \u001b[39mdef\u001b[39;00m \u001b[39mexecute_sql2df\u001b[39m(config, sql):\n\u001b[1;32m     36\u001b[0m     db \u001b[39m=\u001b[39m mysql\u001b[39m.\u001b[39mconnector\u001b[39m.\u001b[39mconnect(\n\u001b[1;32m     37\u001b[0m         host\u001b[39m=\u001b[39m\u001b[39m\"\u001b[39m\u001b[39mlocalhost\u001b[39m\u001b[39m\"\u001b[39m,\n\u001b[1;32m     38\u001b[0m         user\u001b[39m=\u001b[39mconfig[\u001b[39m'\u001b[39m\u001b[39mDatabase\u001b[39m\u001b[39m'\u001b[39m][\u001b[39m'\u001b[39m\u001b[39mDB_USER\u001b[39m\u001b[39m'\u001b[39m],\n\u001b[0;32m   (...)\u001b[0m\n\u001b[1;32m     41\u001b[0m         port\u001b[39m=\u001b[39m\u001b[39mint\u001b[39m(config[\u001b[39m'\u001b[39m\u001b[39mData\u001b[39m\u001b[39m'\u001b[39m][\u001b[39m'\u001b[39m\u001b[39mcookpad_db_port\u001b[39m\u001b[39m'\u001b[39m])\n\u001b[1;32m     42\u001b[0m     )\n\u001b[0;32m---> 43\u001b[0m     df \u001b[39m=\u001b[39m pd\u001b[39m.\u001b[39;49mread_sql(sql, db)\n\u001b[1;32m     44\u001b[0m     \u001b[39mreturn\u001b[39;00m df\n",
      "File \u001b[0;32m~/Japanese-FoodKG-master/.venv/lib/python3.10/site-packages/pandas/io/sql.py:654\u001b[0m, in \u001b[0;36mread_sql\u001b[0;34m(sql, con, index_col, coerce_float, params, parse_dates, columns, chunksize, dtype_backend, dtype)\u001b[0m\n\u001b[1;32m    652\u001b[0m \u001b[39mwith\u001b[39;00m pandasSQL_builder(con) \u001b[39mas\u001b[39;00m pandas_sql:\n\u001b[1;32m    653\u001b[0m     \u001b[39mif\u001b[39;00m \u001b[39misinstance\u001b[39m(pandas_sql, SQLiteDatabase):\n\u001b[0;32m--> 654\u001b[0m         \u001b[39mreturn\u001b[39;00m pandas_sql\u001b[39m.\u001b[39;49mread_query(\n\u001b[1;32m    655\u001b[0m             sql,\n\u001b[1;32m    656\u001b[0m             index_col\u001b[39m=\u001b[39;49mindex_col,\n\u001b[1;32m    657\u001b[0m             params\u001b[39m=\u001b[39;49mparams,\n\u001b[1;32m    658\u001b[0m             coerce_float\u001b[39m=\u001b[39;49mcoerce_float,\n\u001b[1;32m    659\u001b[0m             parse_dates\u001b[39m=\u001b[39;49mparse_dates,\n\u001b[1;32m    660\u001b[0m             chunksize\u001b[39m=\u001b[39;49mchunksize,\n\u001b[1;32m    661\u001b[0m             dtype_backend\u001b[39m=\u001b[39;49mdtype_backend,\n\u001b[1;32m    662\u001b[0m             dtype\u001b[39m=\u001b[39;49mdtype,\n\u001b[1;32m    663\u001b[0m         )\n\u001b[1;32m    665\u001b[0m     \u001b[39mtry\u001b[39;00m:\n\u001b[1;32m    666\u001b[0m         _is_table_name \u001b[39m=\u001b[39m pandas_sql\u001b[39m.\u001b[39mhas_table(sql)\n",
      "File \u001b[0;32m~/Japanese-FoodKG-master/.venv/lib/python3.10/site-packages/pandas/io/sql.py:2329\u001b[0m, in \u001b[0;36mSQLiteDatabase.read_query\u001b[0;34m(self, sql, index_col, coerce_float, parse_dates, params, chunksize, dtype, dtype_backend)\u001b[0m\n\u001b[1;32m   2317\u001b[0m \u001b[39mdef\u001b[39;00m \u001b[39mread_query\u001b[39m(\n\u001b[1;32m   2318\u001b[0m     \u001b[39mself\u001b[39m,\n\u001b[1;32m   2319\u001b[0m     sql,\n\u001b[0;32m   (...)\u001b[0m\n\u001b[1;32m   2326\u001b[0m     dtype_backend: DtypeBackend \u001b[39m|\u001b[39m Literal[\u001b[39m\"\u001b[39m\u001b[39mnumpy\u001b[39m\u001b[39m\"\u001b[39m] \u001b[39m=\u001b[39m \u001b[39m\"\u001b[39m\u001b[39mnumpy\u001b[39m\u001b[39m\"\u001b[39m,\n\u001b[1;32m   2327\u001b[0m ) \u001b[39m-\u001b[39m\u001b[39m>\u001b[39m DataFrame \u001b[39m|\u001b[39m Iterator[DataFrame]:\n\u001b[1;32m   2328\u001b[0m     cursor \u001b[39m=\u001b[39m \u001b[39mself\u001b[39m\u001b[39m.\u001b[39mexecute(sql, params)\n\u001b[0;32m-> 2329\u001b[0m     columns \u001b[39m=\u001b[39m [col_desc[\u001b[39m0\u001b[39m] \u001b[39mfor\u001b[39;00m col_desc \u001b[39min\u001b[39;00m cursor\u001b[39m.\u001b[39mdescription]\n\u001b[1;32m   2331\u001b[0m     \u001b[39mif\u001b[39;00m chunksize \u001b[39mis\u001b[39;00m \u001b[39mnot\u001b[39;00m \u001b[39mNone\u001b[39;00m:\n\u001b[1;32m   2332\u001b[0m         \u001b[39mreturn\u001b[39;00m \u001b[39mself\u001b[39m\u001b[39m.\u001b[39m_query_iterator(\n\u001b[1;32m   2333\u001b[0m             cursor,\n\u001b[1;32m   2334\u001b[0m             chunksize,\n\u001b[0;32m   (...)\u001b[0m\n\u001b[1;32m   2340\u001b[0m             dtype_backend\u001b[39m=\u001b[39mdtype_backend,\n\u001b[1;32m   2341\u001b[0m         )\n",
      "\u001b[0;31mTypeError\u001b[0m: 'NoneType' object is not iterable"
     ]
    }
   ],
   "source": [
    "sql = \"\"\"\n",
    "CREATE INDEX recipe_id_index ON ingredients(recipe_id);\n",
    "\"\"\"\n",
    "marge_cookpad_data = execute_sql2df(config, sql)"
   ]
  },
  {
   "cell_type": "code",
   "execution_count": 4,
   "metadata": {},
   "outputs": [],
   "source": [
    "sql = \"\"\"\n",
    "SELECT \n",
    "    recipes.id AS recipe_id,\n",
    "    recipes.title AS recipe_title,\n",
    "    recipes.description AS recipe_description,\n",
    "    ingredients.name AS ingredient_name,\n",
    "    ingredients.quantity AS ingredient_quantity\n",
    "FROM \n",
    "    recipes\n",
    "INNER JOIN \n",
    "    ingredients ON recipes.id = ingredients.recipe_id;\n",
    "\n",
    "\"\"\"\n",
    "marge_cookpad_data = execute_sql2df(config, sql)"
   ]
  },
  {
   "cell_type": "code",
   "execution_count": 9,
   "metadata": {},
   "outputs": [],
   "source": [
    "marge_cookpad_data.dropna(subset=['ingredient_name'], inplace=True)\n",
    "marge_cookpad_data[\"ingredient_name\"] = [jaconv.kata2hira(name) for name in marge_cookpad_data[\"ingredient_name\"]] "
   ]
  },
  {
   "cell_type": "code",
   "execution_count": 11,
   "metadata": {},
   "outputs": [],
   "source": [
    "marge_cookpad_data.dropna(subset=['recipe_title'], inplace=True)\n",
    "marge_cookpad_data[\"recipe_title\"] = [jaconv.kata2hira(name) for name in marge_cookpad_data[\"recipe_title\"]] "
   ]
  },
  {
   "cell_type": "code",
   "execution_count": 16,
   "metadata": {},
   "outputs": [],
   "source": [
    "marge_cookpad_data[\"data_source\"] = \"cookpad\"\n",
    "marge_cookpad_data[\"edge_type\"] = \"recipe-ingredient\"\n",
    "cookpad_edge = marge_cookpad_data[[\"recipe_id\",\"recipe_title\", \"ingredient_name\",\"edge_type\",\"data_source\"]].copy()"
   ]
  },
  {
   "cell_type": "code",
   "execution_count": 18,
   "metadata": {},
   "outputs": [],
   "source": [
    "save_path = os.path.join(OUTPUT_ROOT,\"output_csv\",\"cookpad_edges.csv\") \n",
    "cookpad_edge.to_csv(save_path,index=False)"
   ]
  }
 ],
 "metadata": {
  "kernelspec": {
   "display_name": ".env",
   "language": "python",
   "name": "python3"
  },
  "language_info": {
   "codemirror_mode": {
    "name": "ipython",
    "version": 3
   },
   "file_extension": ".py",
   "mimetype": "text/x-python",
   "name": "python",
   "nbconvert_exporter": "python",
   "pygments_lexer": "ipython3",
   "version": "3.10.12"
  },
  "orig_nbformat": 4
 },
 "nbformat": 4,
 "nbformat_minor": 2
}
